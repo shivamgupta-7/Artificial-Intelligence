{
  "nbformat": 4,
  "nbformat_minor": 0,
  "metadata": {
    "colab": {
      "provenance": [],
      "collapsed_sections": []
    },
    "kernelspec": {
      "name": "python3",
      "display_name": "Python 3"
    }
  },
  "cells": [
    {
      "cell_type": "code",
      "metadata": {
        "colab": {
          "base_uri": "https://localhost:8080/"
        },
        "id": "NT9EHRVdg-bm",
        "outputId": "22e3bb74-203c-4932-80f3-e245db2d1bb1"
      },
      "source": [
        "print (\"Queens No: \")\n",
        "N = int(input())\n",
        "\n",
        "board = [[0]*N for _ in range(N)]\n",
        "\n",
        "def check(i, j):\n",
        "    for k in range(0,N):\n",
        "        if board[i][k]==1 or board[k][j]==1:\n",
        "            return True\n",
        "    for k in range(0,N):\n",
        "        for l in range(0,N):\n",
        "            if (k+l==i+j) or (k-l==i-j):\n",
        "                if board[k][l]==1:\n",
        "                    return True\n",
        "    return False\n",
        "\n",
        "def fun(n):\n",
        "    if n==0:\n",
        "        return True\n",
        "    for i in range(0,N):\n",
        "        for j in range(0,N):\n",
        "            if (not(check(i,j))) and (board[i][j]!=1):\n",
        "                board[i][j] = 1\n",
        "                if fun(n-1)==True:\n",
        "                    return True\n",
        "                board[i][j] = 0\n",
        "    return False\n",
        "\n",
        "fun(N)\n",
        "for i in board:\n",
        "    print (i)\n"
      ],
      "execution_count": null,
      "outputs": [
        {
          "output_type": "stream",
          "text": [
            "Queens No: \n",
            "3\n",
            "[0, 0, 0]\n",
            "[0, 0, 0]\n",
            "[0, 0, 0]\n"
          ],
          "name": "stdout"
        }
      ]
    },
    {
      "cell_type": "code",
      "metadata": {
        "id": "Vo8A70-fhXM4"
      },
      "source": [],
      "execution_count": null,
      "outputs": []
    }
  ]
}