{
  "nbformat": 4,
  "nbformat_minor": 0,
  "metadata": {
    "colab": {
      "provenance": [],
      "collapsed_sections": []
    },
    "kernelspec": {
      "name": "python3",
      "display_name": "Python 3"
    }
  },
  "cells": [
    {
      "cell_type": "code",
      "metadata": {
        "colab": {
          "base_uri": "https://localhost:8080/"
        },
        "id": "roGEirmm7nWr",
        "outputId": "94fb77e8-1c16-44da-99d3-123c7411ea2b"
      },
      "source": [
        "def check(n, graph, colors, c):\n",
        "    for i in range(n):\n",
        "        if graph[n][i] and c == colors[i]: return False\n",
        "    return True\n",
        "\n",
        "def graphColoring(graph, color_nb, colors, n):\n",
        "    if color_nb+1 == n :\n",
        "        return True\n",
        "\n",
        "    for c in range(1, color_nb+1):\n",
        "        if check(n, graph, colors, c):\n",
        "            colors[n] = c\n",
        "            if graphColoring(graph, color_nb, colors, n+1): return True\n",
        "            colors[n] = 0\n",
        "\n",
        "vertex_nb = 4\n",
        "color_nb = 3\n",
        "\n",
        "colors = [0] * vertex_nb\n",
        "\n",
        "graph = [\n",
        "    [0, 1, 1, 1],\n",
        "    [1, 0, 1, 0],\n",
        "    [1, 1, 0, 1],\n",
        "    [1, 0, 1, 0],\n",
        "]\n",
        "\n",
        "if graphColoring(graph, color_nb, colors, 0):\n",
        "    print(colors)\n",
        "else:\n",
        "    print(\"No solutions\")\n"
      ],
      "execution_count": null,
      "outputs": [
        {
          "output_type": "stream",
          "text": [
            "[1, 2, 3, 2]\n"
          ],
          "name": "stdout"
        }
      ]
    },
    {
      "cell_type": "code",
      "metadata": {
        "id": "EcAriULn9llT"
      },
      "source": [],
      "execution_count": null,
      "outputs": []
    }
  ]
}