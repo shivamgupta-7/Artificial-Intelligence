{
  "nbformat": 4,
  "nbformat_minor": 0,
  "metadata": {
    "colab": {
      "provenance": [],
      "collapsed_sections": []
    },
    "kernelspec": {
      "name": "python3",
      "display_name": "Python 3"
    },
    "language_info": {
      "name": "python"
    }
  },
  "cells": [
    {
      "cell_type": "code",
      "metadata": {
        "colab": {
          "base_uri": "https://localhost:8080/",
          "height": 441
        },
        "id": "3rJhTVOGoE3r",
        "outputId": "b3960d6a-4898-4fbd-be36-8d45d9385cec"
      },
      "source": [
        "pip install pomegranate"
      ],
      "execution_count": null,
      "outputs": [
        {
          "output_type": "stream",
          "text": [
            "Collecting pomegranate\n",
            "\u001b[?25l  Downloading https://files.pythonhosted.org/packages/a7/65/98bbcc034daac7b584e82a0f91f140dbb9ef502a1b7c96f16f3deb847232/pomegranate-0.14.4-cp37-cp37m-manylinux2010_x86_64.whl (17.9MB)\n",
            "\u001b[K     |████████████████████████████████| 17.9MB 205kB/s \n",
            "\u001b[?25hRequirement already satisfied: joblib>=0.9.0b4 in /usr/local/lib/python3.7/dist-packages (from pomegranate) (1.0.1)\n",
            "Requirement already satisfied: pyyaml in /usr/local/lib/python3.7/dist-packages (from pomegranate) (3.13)\n",
            "Collecting numpy>=1.20.0\n",
            "\u001b[?25l  Downloading https://files.pythonhosted.org/packages/73/ef/8967d406f3f85018ceb5efab50431e901683188f1741ceb053efcab26c87/numpy-1.20.2-cp37-cp37m-manylinux2010_x86_64.whl (15.3MB)\n",
            "\u001b[K     |████████████████████████████████| 15.3MB 161kB/s \n",
            "\u001b[?25hRequirement already satisfied: scipy>=0.17.0 in /usr/local/lib/python3.7/dist-packages (from pomegranate) (1.4.1)\n",
            "Requirement already satisfied: networkx>=2.0 in /usr/local/lib/python3.7/dist-packages (from pomegranate) (2.5.1)\n",
            "Requirement already satisfied: decorator<5,>=4.3 in /usr/local/lib/python3.7/dist-packages (from networkx>=2.0->pomegranate) (4.4.2)\n",
            "\u001b[31mERROR: tensorflow 2.4.1 has requirement numpy~=1.19.2, but you'll have numpy 1.20.2 which is incompatible.\u001b[0m\n",
            "\u001b[31mERROR: datascience 0.10.6 has requirement folium==0.2.1, but you'll have folium 0.8.3 which is incompatible.\u001b[0m\n",
            "\u001b[31mERROR: albumentations 0.1.12 has requirement imgaug<0.2.7,>=0.2.5, but you'll have imgaug 0.2.9 which is incompatible.\u001b[0m\n",
            "Installing collected packages: numpy, pomegranate\n",
            "  Found existing installation: numpy 1.19.5\n",
            "    Uninstalling numpy-1.19.5:\n",
            "      Successfully uninstalled numpy-1.19.5\n",
            "Successfully installed numpy-1.20.2 pomegranate-0.14.4\n"
          ],
          "name": "stdout"
        },
        {
          "output_type": "display_data",
          "data": {
            "application/vnd.colab-display-data+json": {
              "pip_warning": {
                "packages": [
                  "numpy"
                ]
              }
            }
          },
          "metadata": {
            "tags": []
          }
        }
      ]
    },
    {
      "cell_type": "code",
      "metadata": {
        "id": "1AHikPV6Mj04"
      },
      "source": [
        "from pomegranate import *\n",
        "guest = DiscreteDistribution({'A': 1./3, 'B': 1./3, 'C': 1./3})\n",
        "prize = DiscreteDistribution({'A': 1./3, 'B': 1./3, 'C': 1./3})\n",
        "monty = ConditionalProbabilityTable(\n",
        "        [['A', 'A', 'A', 0.0],\n",
        "         ['A', 'A', 'B', 0.5],\n",
        "         ['A', 'A', 'C', 0.5],\n",
        "         ['A', 'B', 'A', 0.0],\n",
        "         ['A', 'B', 'B', 0.0],\n",
        "         ['A', 'B', 'C', 1.0],\n",
        "         ['A', 'C', 'A', 0.0],\n",
        "         ['A', 'C', 'B', 1.0],\n",
        "         ['A', 'C', 'C', 0.0],\n",
        "         ['B', 'A', 'A', 0.0],\n",
        "         ['B', 'A', 'B', 0.0],\n",
        "         ['B', 'A', 'C', 1.0],\n",
        "         ['B', 'B', 'A', 0.5],\n",
        "         ['B', 'B', 'B', 0.0],\n",
        "         ['B', 'B', 'C', 0.5],\n",
        "         ['B', 'C', 'A', 1.0],\n",
        "         ['B', 'C', 'B', 0.0],\n",
        "         ['B', 'C', 'C', 0.0],\n",
        "         ['C', 'A', 'A', 0.0],\n",
        "         ['C', 'A', 'B', 1.0],\n",
        "         ['C', 'A', 'C', 0.0],\n",
        "         ['C', 'B', 'A', 1.0],\n",
        "         ['C', 'B', 'B', 0.0],\n",
        "         ['C', 'B', 'C', 0.0],\n",
        "         ['C', 'C', 'A', 0.5],\n",
        "         ['C', 'C', 'B', 0.5],\n",
        "         ['C', 'C', 'C', 0.0]], [guest, prize])\n",
        "s1 = Node(guest, name=\"guest\")\n",
        "s2 = Node(prize, name=\"prize\")\n",
        "s3 = Node(monty, name=\"monty\")\n",
        "model = BayesianNetwork(\"Monty Hall Problem\")\n",
        "model.add_states(s1, s2, s3)\n",
        "model.add_edge(s1, s3)\n",
        "model.add_edge(s2, s3)\n",
        "model.bake()"
      ],
      "execution_count": null,
      "outputs": []
    },
    {
      "cell_type": "code",
      "metadata": {
        "colab": {
          "base_uri": "https://localhost:8080/"
        },
        "id": "MrLQAoxZMrIe",
        "outputId": "092826eb-e00d-41e7-f4ea-a3a82a4de253"
      },
      "source": [
        "model.probability([['A', 'B', 'C']])\n",
        "model.probability([['A', 'B', 'C']])\n",
        "print(\"Scenario 1:\")\n",
        "print(model.predict_proba({}))"
      ],
      "execution_count": null,
      "outputs": [
        {
          "output_type": "stream",
          "text": [
            "Scenario 1:\n",
            "[{\n",
            "     \"class\" : \"Distribution\",\n",
            "     \"dtype\" : \"str\",\n",
            "     \"name\" : \"DiscreteDistribution\",\n",
            "     \"parameters\" : [\n",
            "         {\n",
            "             \"A\" : 0.33333333333333337,\n",
            "             \"B\" : 0.33333333333333337,\n",
            "             \"C\" : 0.33333333333333337\n",
            "         }\n",
            "     ],\n",
            "     \"frozen\" : false\n",
            " }\n",
            " {\n",
            "     \"class\" : \"Distribution\",\n",
            "     \"dtype\" : \"str\",\n",
            "     \"name\" : \"DiscreteDistribution\",\n",
            "     \"parameters\" : [\n",
            "         {\n",
            "             \"A\" : 0.33333333333333337,\n",
            "             \"B\" : 0.33333333333333337,\n",
            "             \"C\" : 0.33333333333333337\n",
            "         }\n",
            "     ],\n",
            "     \"frozen\" : false\n",
            " }\n",
            " {\n",
            "     \"class\" : \"Distribution\",\n",
            "     \"dtype\" : \"str\",\n",
            "     \"name\" : \"DiscreteDistribution\",\n",
            "     \"parameters\" : [\n",
            "         {\n",
            "             \"A\" : 0.3333333333333333,\n",
            "             \"B\" : 0.3333333333333333,\n",
            "             \"C\" : 0.3333333333333333\n",
            "         }\n",
            "     ],\n",
            "     \"frozen\" : false\n",
            " }                                    ]\n"
          ],
          "name": "stdout"
        }
      ]
    },
    {
      "cell_type": "code",
      "metadata": {
        "colab": {
          "base_uri": "https://localhost:8080/"
        },
        "id": "9URplx0BQVxF",
        "outputId": "6488a23a-de91-4f9d-9029-1c659ad27fd0"
      },
      "source": [
        "print(\"Scenario 2:\")\n",
        "print(model.predict_proba([[None, None, None]]))"
      ],
      "execution_count": null,
      "outputs": [
        {
          "output_type": "stream",
          "text": [
            "Scenario 2:\n",
            "[array([{\n",
            "           \"class\" : \"Distribution\",\n",
            "           \"dtype\" : \"str\",\n",
            "           \"name\" : \"DiscreteDistribution\",\n",
            "           \"parameters\" : [\n",
            "               {\n",
            "                   \"A\" : 0.33333333333333337,\n",
            "                   \"B\" : 0.33333333333333337,\n",
            "                   \"C\" : 0.33333333333333337\n",
            "               }\n",
            "           ],\n",
            "           \"frozen\" : false\n",
            "       }                                     ,\n",
            "       {\n",
            "           \"class\" : \"Distribution\",\n",
            "           \"dtype\" : \"str\",\n",
            "           \"name\" : \"DiscreteDistribution\",\n",
            "           \"parameters\" : [\n",
            "               {\n",
            "                   \"A\" : 0.33333333333333337,\n",
            "                   \"B\" : 0.33333333333333337,\n",
            "                   \"C\" : 0.33333333333333337\n",
            "               }\n",
            "           ],\n",
            "           \"frozen\" : false\n",
            "       }                                     ,\n",
            "       {\n",
            "           \"class\" : \"Distribution\",\n",
            "           \"dtype\" : \"str\",\n",
            "           \"name\" : \"DiscreteDistribution\",\n",
            "           \"parameters\" : [\n",
            "               {\n",
            "                   \"B\" : 0.3333333333333333,\n",
            "                   \"A\" : 0.3333333333333333,\n",
            "                   \"C\" : 0.3333333333333333\n",
            "               }\n",
            "           ],\n",
            "           \"frozen\" : false\n",
            "       }                                    ], dtype=object)]\n"
          ],
          "name": "stdout"
        }
      ]
    },
    {
      "cell_type": "code",
      "metadata": {
        "colab": {
          "base_uri": "https://localhost:8080/"
        },
        "id": "xwCpv1gCQbiM",
        "outputId": "098888b8-bc07-4b90-84bd-68a2eb3b8a01"
      },
      "source": [
        "print(\"Scenario 3:\")\n",
        "print(model.predict_proba([['A', None, None]]))"
      ],
      "execution_count": null,
      "outputs": [
        {
          "output_type": "stream",
          "text": [
            "Scenario 3:\n",
            "[array(['A', {\n",
            "                \"class\" : \"Distribution\",\n",
            "                \"dtype\" : \"str\",\n",
            "                \"name\" : \"DiscreteDistribution\",\n",
            "                \"parameters\" : [\n",
            "                    {\n",
            "                        \"A\" : 0.3333333333333333,\n",
            "                        \"B\" : 0.3333333333333333,\n",
            "                        \"C\" : 0.3333333333333333\n",
            "                    }\n",
            "                ],\n",
            "                \"frozen\" : false\n",
            "            }                                    ,\n",
            "       {\n",
            "           \"class\" : \"Distribution\",\n",
            "           \"dtype\" : \"str\",\n",
            "           \"name\" : \"DiscreteDistribution\",\n",
            "           \"parameters\" : [\n",
            "               {\n",
            "                   \"B\" : 0.49999999999999983,\n",
            "                   \"A\" : 0.0,\n",
            "                   \"C\" : 0.49999999999999983\n",
            "               }\n",
            "           ],\n",
            "           \"frozen\" : false\n",
            "       }                                     ], dtype=object)]\n"
          ],
          "name": "stdout"
        }
      ]
    },
    {
      "cell_type": "code",
      "metadata": {
        "colab": {
          "base_uri": "https://localhost:8080/"
        },
        "id": "O1HS9J0nQfnk",
        "outputId": "7b45b7cc-a376-4832-be05-1f9e0afadec9"
      },
      "source": [
        "print(\"Scenario 4:\")\n",
        "print(model.predict_proba([{'guest': 'A', 'monty': 'B'}]))"
      ],
      "execution_count": null,
      "outputs": [
        {
          "output_type": "stream",
          "text": [
            "Scenario 4:\n",
            "[array(['A', {\n",
            "                \"class\" : \"Distribution\",\n",
            "                \"dtype\" : \"str\",\n",
            "                \"name\" : \"DiscreteDistribution\",\n",
            "                \"parameters\" : [\n",
            "                    {\n",
            "                        \"A\" : 0.3333333333333334,\n",
            "                        \"B\" : 0.0,\n",
            "                        \"C\" : 0.6666666666666664\n",
            "                    }\n",
            "                ],\n",
            "                \"frozen\" : false\n",
            "            }                                    , 'B'], dtype=object)]\n"
          ],
          "name": "stdout"
        }
      ]
    },
    {
      "cell_type": "code",
      "metadata": {
        "colab": {
          "base_uri": "https://localhost:8080/"
        },
        "id": "bbhuqrK3peU8",
        "outputId": "1ebcf5cf-9017-40ef-dd89-fa5eb9fa9ff1"
      },
      "source": [
        "import random\n",
        "from random import seed, randint\n",
        "import numpy\n",
        "def game(winningdoor, selecteddoor, change=False):\n",
        "    assert winningdoor < 3\n",
        "    assert winningdoor >= 0\n",
        "    # Presenter removes the first door that was not selected neither winning\n",
        "    removeddoor = next(i for i in range(3) if i != selecteddoor and i != winningdoor)\n",
        "    # Player decides to change its choice\n",
        "    if change:\n",
        "        selecteddoor = next(i for i in range(3) if i != selecteddoor and i != removeddoor)\n",
        "    # We suppose the player never wants to change its initial choice.\n",
        "    return selecteddoor == winningdoor\n",
        "if __name__ == '__main__':\n",
        "    playerdoors = numpy.random.random_integers(0,2, (1000 * 1000 * 1,))\n",
        "    winningdoors = [d for d in playerdoors if game(1, d)]\n",
        "    print(\"Winning percentage without changing choice: \", len(winningdoors) / len(playerdoors))\n",
        "    winningdoors = [d for d in playerdoors if game(1, d, change=True)]\n",
        "    print(\"Winning percentage while changing choice: \", len(winningdoors) / len(playerdoors))"
      ],
      "execution_count": null,
      "outputs": [
        {
          "output_type": "stream",
          "text": [
            "/usr/local/lib/python3.7/dist-packages/ipykernel_launcher.py:21: DeprecationWarning: This function is deprecated. Please call randint(0, 2 + 1) instead\n"
          ],
          "name": "stderr"
        },
        {
          "output_type": "stream",
          "text": [
            "Winning percentage without changing choice:  0.333673\n",
            "Winning percentage while changing choice:  0.666327\n"
          ],
          "name": "stdout"
        }
      ]
    },
    {
      "cell_type": "code",
      "metadata": {
        "colab": {
          "base_uri": "https://localhost:8080/"
        },
        "id": "GsvNEZ4AI31z",
        "outputId": "2e38d158-9455-40aa-b4b7-414642b01f30"
      },
      "source": [
        "import random\n",
        " #1 represents a car\n",
        " #0 represent a goat\n",
        " \n",
        "stay = 0  #amount won if stay in the same position\n",
        "switch = 0 # amount won if you switch \n",
        " \n",
        "for i in range(1000):\n",
        "    lst = [1,0,0]           # one car and two goats\n",
        "    random.shuffle(lst)     # shuffles the list randomly\n",
        " \n",
        "    ran = random.randrange(3) # gets a random number for the random guess\n",
        " \n",
        "    user = lst[ran] #storing the random guess \n",
        " \n",
        "    del(lst[ran]) # deleting the random guess\n",
        " \n",
        "    huh = 0\n",
        "    for i in lst: # getting a value 0 and deleting it\n",
        "        if i ==0:\n",
        "            del(lst[huh]) # deletes a goat when it finds it\n",
        "            break\n",
        "        huh+=1\n",
        " \n",
        "    if user ==1: # if the original choice is 1 then stay adds 1\n",
        "        stay+=1\n",
        " \n",
        "    if lst[0] == 1: # if the switched value is 1 then switch adds 1\n",
        "        switch+=1\n",
        " \n",
        "print(\"Stay =\",stay)\n",
        "print(\"Switch = \",switch)"
      ],
      "execution_count": null,
      "outputs": [
        {
          "output_type": "stream",
          "text": [
            "Stay = 322\n",
            "Switch =  678\n"
          ],
          "name": "stdout"
        }
      ]
    },
    {
      "cell_type": "code",
      "metadata": {
        "id": "7JCiBPSQSD49"
      },
      "source": [],
      "execution_count": null,
      "outputs": []
    }
  ]
}