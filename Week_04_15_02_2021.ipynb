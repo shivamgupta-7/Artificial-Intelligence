{
  "nbformat": 4,
  "nbformat_minor": 0,
  "metadata": {
    "colab": {
      "provenance": [],
      "collapsed_sections": []
    },
    "kernelspec": {
      "name": "python3",
      "display_name": "Python 3"
    }
  },
  "cells": [
    {
      "cell_type": "code",
      "metadata": {
        "colab": {
          "base_uri": "https://localhost:8080/"
        },
        "id": "6n3x0tph1jus",
        "outputId": "979e758a-6532-4c79-f66e-fea3e3068929"
      },
      "source": [
        "from itertools import permutations\n",
        "\n",
        "\n",
        "def solve(puzzle):\n",
        "\n",
        "    words = [w for w in puzzle.split() if w.isalpha()]\n",
        "\n",
        "    nonzeros = {w[0] for w in words}\n",
        "\n",
        "    others = {a for a in ''.join(words) if a not in nonzeros}\n",
        "\n",
        "    chars = [ord(c) for c in nonzeros] + [ord(c) for c in others]\n",
        "\n",
        "    assert len(chars) <= 10, 'Too many letters'\n",
        "\n",
        "    for guess in permutations('0123456789', len(chars)):\n",
        "\n",
        "        if '0' not in guess[:len(nonzeros)]:\n",
        "            equation = puzzle.translate(dict(zip(chars, guess)))\n",
        "            if eval(equation):\n",
        "                return puzzle, equation\n",
        "\n",
        "\n",
        "if __name__ == '__main__':\n",
        "    print('\\n'.join(solve(\"FOUR - TWO == TWO\")))"
      ],
      "execution_count": null,
      "outputs": [
        {
          "output_type": "stream",
          "text": [
            "FOUR - TWO == TWO\n",
            "1530 - 765 == 765\n"
          ],
          "name": "stdout"
        }
      ]
    },
    {
      "cell_type": "code",
      "metadata": {
        "id": "cTH1JeqD1mo-"
      },
      "source": [
        "#https://github.com/lexluga/ictlife-code-puzzle\n",
        "(\"FUN * BBQ == SUMMER\")\n",
        "solve(\"ABC + DEF = GHIJK\")\n",
        "# solve(s)\n",
        "solve(\"ODD + ODD = EVEN\")\n",
        "solve(\"BIKE + ROAD = SPEED\")\n",
        "solve(\"BASE + BALL = GAMES\")\n",
        "# solve(\"NN - NR = TR\") won't work for this because of constraint that T cannot be 0, but in case of subtraction it\n",
        "            # can be true\n",
        "solve(\"FOUR - TWO = TWO\")\n",
        "solve(\"SQUARE + DANCE = DANCER\")\n",
        "solve(\"NUMBER + NUMBER = PUZZLE\")\n",
        "solve(\"TILES + PUZZLES = PICTURE\")\n",
        "solve(\"COCA + COLA = OASIS\")\n",
        "solve(\"HERE + SHE = COMES\")\n",
        "solve(\"CROSS + ROADS = DANGER\")\n",
        "solve(\"HURRAY + HUZZA = PUZZLES\")\n",
        "solve(\"FATHER + MOTHER = PARENT\")\n",
        "solve(\"SQUARE - DANCE = DANCER\")\n",
        "solve(\"PIERRE + ELIIOT = TRUDEAU\")\n",
        "solve(\"APPLE + LEMON = BANANA\")\n",
        "solve(\"PEANUT + TEETH = CARTER\")\n",
        "solve(\"TERRIBLE + NUMBER = THIRTEEN\")\n",
        "solve(\"BOBBY + LOVED = JEWELS\")\n",
        "solve(\"APPLE + PEAR = GRAPE\")\n",
        "solve(\"COUNT - COIN = SNUB\")\n",
        "solve(\"STOP + PAST = POST\")\n",
        "solve(\"FOUR - TWO = TWO\")\n",
        "solve(\"PLAYS + WELL = BETTER\")\n",
        "solve(\"GREEN + ORANGE = COLORS\")\n",
        "solve(\"COMPLEX + LAPLACE = LAPLACE\")\n",
        "\n",
        "# Other puzzles to try:\n",
        "# query = \"REASON == IT * IS + THERE\"\n",
        "# query = \"MAD * MAN == ASYLUM\"\n",
        "# query = \"THREE + THREE + ONE == SEVEN\"\n",
        "# query = \"SEND + MORE == MONEY\"\n",
        "# query = \"I + BB == ILL\"\n",
        "# query = \"WHOSE + TEETH + ARE + AS == SWORDS\"\n",
        "# query = \"BILL + WILLIAM + MONICA == CLINTON\"\n",
        "# query = \"GREEN + ORANGE == COLORS\"\n",
        "# query = \"PACIFIC + PACIFIC + PACIFIC == ATLANTIC\"\n",
        "# query = \"CASSATT + RENOIR == PICASSO\"\n",
        "# query = \"MANET + MATISSE + MIRO + MONET + RENOIR == ARTISTS\"\n",
        "# query = \"COMPLEX + LAPLACE == CALCULUS\""
      ],
      "execution_count": null,
      "outputs": []
    }
  ]
}