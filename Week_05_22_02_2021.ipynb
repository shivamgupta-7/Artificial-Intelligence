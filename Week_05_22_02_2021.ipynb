{
  "nbformat": 4,
  "nbformat_minor": 0,
  "metadata": {
    "colab": {
      "provenance": [],
      "collapsed_sections": []
    },
    "kernelspec": {
      "name": "python3",
      "display_name": "Python 3"
    }
  },
  "cells": [
    {
      "cell_type": "code",
      "metadata": {
        "colab": {
          "base_uri": "https://localhost:8080/"
        },
        "id": "6mTnUbstB5_n",
        "outputId": "993f75f3-f997-4ca0-8c93-31ff00104ae3"
      },
      "source": [
        "#DFS stands for Depth First Search is a edge based technique. \n",
        "#It uses the Stack data structure, performs two stages, first visited vertices are pushed into stack and second if there is no vertices then visited vertices are popped.\n",
        "import time\n",
        "#graph = {'A': ['B','C'],\n",
        "#         'B': ['D','E','A'],\n",
        "#         'C': ['F','G','A'],\n",
        "#\t       'D': ['B'],\n",
        "#\t       'E': ['H','B'],\n",
        "#\t       'F': ['C'],\n",
        "#\t       'G': ['C'],\n",
        "#\t       'H': ['E']}\n",
        "\n",
        "graph = {\n",
        "    'A' : ['C','B'],\n",
        "    'B' : ['E', 'D'],\n",
        "    'C' : ['A'],\n",
        "    'D' : [],\n",
        "    'E' : ['A'],\n",
        "}\n",
        "\n",
        "visited = set() # Set to keep track of visited nodes.\n",
        "\n",
        "def dfs(visited, graph, node):\n",
        "    if node not in visited:\n",
        "        print (node,end=' ')\n",
        "        visited.add(node)\n",
        "        for neighbour in graph[node]:\n",
        "            dfs(visited, graph, neighbour)\n",
        "\n",
        "t0=time.time()\n",
        "dfs(visited, graph, 'A')\n",
        "t1=time.time() - t0\n",
        "print('\\nTime taken for execution: {}'.format(t1))"
      ],
      "execution_count": null,
      "outputs": [
        {
          "output_type": "stream",
          "text": [
            "A C B E D \n",
            "Time taken for execution: 0.00026035308837890625\n"
          ],
          "name": "stdout"
        }
      ]
    },
    {
      "cell_type": "code",
      "metadata": {
        "id": "n4M7C-iiG3KR",
        "colab": {
          "base_uri": "https://localhost:8080/"
        },
        "outputId": "31fc42e4-6c15-4501-91a6-19bc0b880621"
      },
      "source": [
        "#BFS\n",
        "#BFS stands for Breadth First Search is a vertex based technique for finding a shortest path in graph. \n",
        "#It uses a Queue data structure which follows first in first out. \n",
        "#In BFS, one vertex is selected at a time when it is visited and marked then its adjacent are visited and stored in the queue. \n",
        "#It is slower than DFS.\n",
        "import time\n",
        "#graph = {'A': ['B','C'],\n",
        "#         'B': ['D','E','A'],\n",
        "#         'C': ['F','G','A'],\n",
        "#\t       'D': ['B'],\n",
        "#\t       'E': ['H','B'],\n",
        "#\t       'F': ['C'],\n",
        "#\t       'G': ['C'],\n",
        "#\t       'H': ['E']}\n",
        "\n",
        "graph = {\n",
        "  'A' : ['C','B'],\n",
        "  'B' : ['E', 'D'],\n",
        "  'C' : ['A'],\n",
        "  'D' : [],\n",
        "  'E' : ['A'],\n",
        "}\n",
        "\n",
        "visited = [] # List to keep track of visited nodes.\n",
        "queue = []     #Initialize a queue\n",
        "\n",
        "def bfs(visited, graph, node):\n",
        "  visited.append(node)\n",
        "  queue.append(node)\n",
        "\n",
        "  while queue:\n",
        "    s = queue.pop(0) \n",
        "    print (s, end = \" \") \n",
        "\n",
        "    for neighbour in graph[s]:\n",
        "      if neighbour not in visited:\n",
        "        visited.append(neighbour)\n",
        "        queue.append(neighbour)\n",
        "\n",
        "t0=time.time()\n",
        "bfs(visited, graph, 'A')\n",
        "t1=time.time() - t0\n",
        "print('\\nTime taken for execution: {}'.format(t1))"
      ],
      "execution_count": null,
      "outputs": [
        {
          "output_type": "stream",
          "text": [
            "A C B E D \n",
            "Time taken for execution: 0.0019593238830566406\n"
          ],
          "name": "stdout"
        }
      ]
    },
    {
      "cell_type": "code",
      "metadata": {
        "id": "_a2Zk0xLPpTA"
      },
      "source": [],
      "execution_count": null,
      "outputs": []
    }
  ]
}