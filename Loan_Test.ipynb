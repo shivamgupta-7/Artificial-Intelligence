{
  "nbformat": 4,
  "nbformat_minor": 0,
  "metadata": {
    "colab": {
      "provenance": []
    },
    "kernelspec": {
      "name": "python3",
      "display_name": "Python 3"
    }
  },
  "cells": [
    {
      "cell_type": "code",
      "metadata": {
        "id": "_9mz6v_nDK2R"
      },
      "source": [
        "# Importing required Packages\n",
        "import pandas as pd\n",
        "import numpy as np\n",
        "import seaborn as sns\n",
        "import matplotlib.pyplot as plt\n",
        "%matplotlib inline\n",
        "import warnings\n",
        "warnings.filterwarnings(\"ignore\")"
      ],
      "execution_count": null,
      "outputs": []
    },
    {
      "cell_type": "code",
      "metadata": {
        "id": "IGM4BaM3DMFj"
      },
      "source": [
        "train=pd.read_csv(\"trainloan.csv\")\n",
        "test=pd.read_csv(\"testloan.csv\")"
      ],
      "execution_count": null,
      "outputs": []
    },
    {
      "cell_type": "code",
      "metadata": {
        "colab": {
          "base_uri": "https://localhost:8080/"
        },
        "id": "TP7qX-EADT7B",
        "outputId": "90ed7f68-836e-49f8-8fe2-08e04cc5794a"
      },
      "source": [
        "# Copy of original data\n",
        "train_original=train.copy()\n",
        "test_original=test.copy()\n",
        "\n",
        "# Features in the dataset\n",
        "train.columns, test.columns"
      ],
      "execution_count": null,
      "outputs": [
        {
          "output_type": "execute_result",
          "data": {
            "text/plain": [
              "(Index(['Loan_ID', 'Gender', 'Married', 'Dependents', 'Education',\n",
              "        'Self_Employed', 'ApplicantIncome', 'CoapplicantIncome', 'LoanAmount',\n",
              "        'Loan_Amount_Term', 'Credit_History', 'Property_Area', 'Loan_Status'],\n",
              "       dtype='object'),\n",
              " Index(['Loan_ID', 'Gender', 'Married', 'Dependents', 'Education',\n",
              "        'Self_Employed', 'ApplicantIncome', 'CoapplicantIncome', 'LoanAmount',\n",
              "        'Loan_Amount_Term', 'Credit_History', 'Property_Area'],\n",
              "       dtype='object'))"
            ]
          },
          "metadata": {
            "tags": []
          },
          "execution_count": 4
        }
      ]
    },
    {
      "cell_type": "code",
      "metadata": {
        "colab": {
          "base_uri": "https://localhost:8080/"
        },
        "id": "Tvw3QZwfEB7p",
        "outputId": "34ed7aa7-c24b-49a2-8b6e-324ca82daad0"
      },
      "source": [
        "# Print data types for each variable\n",
        "train.dtypes"
      ],
      "execution_count": null,
      "outputs": [
        {
          "output_type": "execute_result",
          "data": {
            "text/plain": [
              "Loan_ID               object\n",
              "Gender                object\n",
              "Married               object\n",
              "Dependents            object\n",
              "Education             object\n",
              "Self_Employed         object\n",
              "ApplicantIncome        int64\n",
              "CoapplicantIncome    float64\n",
              "LoanAmount           float64\n",
              "Loan_Amount_Term     float64\n",
              "Credit_History       float64\n",
              "Property_Area         object\n",
              "Loan_Status           object\n",
              "dtype: object"
            ]
          },
          "metadata": {
            "tags": []
          },
          "execution_count": 5
        }
      ]
    },
    {
      "cell_type": "code",
      "metadata": {
        "colab": {
          "base_uri": "https://localhost:8080/"
        },
        "id": "Fp5lmEh1EGSB",
        "outputId": "45ad1fcc-3db8-4d74-c6fb-69a9d639c52b"
      },
      "source": [
        "# Shape of the dataset\n",
        "train.shape, test.shape"
      ],
      "execution_count": null,
      "outputs": [
        {
          "output_type": "execute_result",
          "data": {
            "text/plain": [
              "((614, 13), (367, 12))"
            ]
          },
          "metadata": {
            "tags": []
          },
          "execution_count": 6
        }
      ]
    },
    {
      "cell_type": "code",
      "metadata": {
        "colab": {
          "base_uri": "https://localhost:8080/",
          "height": 280
        },
        "id": "AvnB5xujEL_K",
        "outputId": "0bfe1d4c-6c21-400a-bbe6-427e5eb03b24"
      },
      "source": [
        "train['Loan_Status'].value_counts(normalize=True)\n",
        "train['Loan_Status'].value_counts().plot.bar()"
      ],
      "execution_count": null,
      "outputs": [
        {
          "output_type": "execute_result",
          "data": {
            "text/plain": [
              "<matplotlib.axes._subplots.AxesSubplot at 0x7f1e492aa3c8>"
            ]
          },
          "metadata": {
            "tags": []
          },
          "execution_count": 8
        },
        {
          "output_type": "display_data",
          "data": {
            "image/png": "[encoded data removed]",
            "text/plain": [
              "<Figure size 432x288 with 1 Axes>"
            ]
          },
          "metadata": {
            "tags": [],
            "needs_background": "light"
          }
        }
      ]
    },
    {
      "cell_type": "code",
      "metadata": {
        "colab": {
          "base_uri": "https://localhost:8080/",
          "height": 220
        },
        "id": "b1kA02YhEa9x",
        "outputId": "135ad4ff-1e73-443d-c4cd-76c8fb86ee30"
      },
      "source": [
        "# Visualizing categorical features\n",
        "plt.figure(1)\n",
        "plt.subplot(221)\n",
        "train['Education'].value_counts(normalize=True).plot.bar(title= 'Education')\n",
        "plt.show()"
      ],
      "execution_count": null,
      "outputs": [
        {
          "output_type": "display_data",
          "data": {
            "image/png": "[encoded data removed]",
            "text/plain": [
              "<Figure size 432x288 with 1 Axes>"
            ]
          },
          "metadata": {
            "tags": [],
            "needs_background": "light"
          }
        }
      ]
    },
    {
      "cell_type": "code",
      "metadata": {
        "colab": {
          "base_uri": "https://localhost:8080/",
          "height": 396
        },
        "id": "dHu7mtiFExSW",
        "outputId": "6340d435-21d3-4d25-d0c9-df7026c4848f"
      },
      "source": [
        "plt.figure(1)\n",
        "plt.subplot(131)\n",
        "train['Self_Employed'].value_counts(normalize=True).plot.bar(figsize=(24,6), title= 'Self_Employed')\n",
        "\n",
        "plt.subplot(132)\n",
        "train['Credit_History'].value_counts(normalize=True).plot.bar(title= 'Credit_History')\n",
        "\n",
        "plt.show()"
      ],
      "execution_count": null,
      "outputs": [
        {
          "output_type": "display_data",
          "data": {
            "image/png": "[encoded data removed]",
            "text/plain": [
              "<Figure size 1728x432 with 2 Axes>"
            ]
          },
          "metadata": {
            "tags": [],
            "needs_background": "light"
          }
        }
      ]
    },
    {
      "cell_type": "code",
      "metadata": {
        "colab": {
          "base_uri": "https://localhost:8080/",
          "height": 404
        },
        "id": "S-UkFBsJFBos",
        "outputId": "ca83cfba-832b-48a9-d44f-da17c22453ec"
      },
      "source": [
        "print(pd.crosstab(train['Education'],train['Loan_Status']))\n",
        "\n",
        "Education=pd.crosstab(train['Education'],train['Loan_Status'])\n",
        "Education.div(Education.sum(1).astype(float), axis=0).plot(kind=\"bar\", figsize=(4,4))\n",
        "plt.xlabel('Education')\n",
        "p = plt.ylabel('Percentage')"
      ],
      "execution_count": null,
      "outputs": [
        {
          "output_type": "stream",
          "text": [
            "Loan_Status     N    Y\n",
            "Education             \n",
            "Graduate      140  340\n",
            "Not Graduate   52   82\n"
          ],
          "name": "stdout"
        },
        {
          "output_type": "display_data",
          "data": {
            "image/png": "[encoded data removed]",
            "text/plain": [
              "<Figure size 288x288 with 1 Axes>"
            ]
          },
          "metadata": {
            "tags": [],
            "needs_background": "light"
          }
        }
      ]
    },
    {
      "cell_type": "code",
      "metadata": {
        "id": "vZMhlq4nFP1l"
      },
      "source": [
        "train=train.drop('Loan_ID',axis=1)\n",
        "test=test.drop('Loan_ID',axis=1)\n",
        "\n",
        "x = train.drop('Loan_Status',1)\n",
        "y = train.Loan_Status    \n",
        "\n",
        "x=pd.get_dummies(x)\n",
        "train=pd.get_dummies(train)\n",
        "test=pd.get_dummies(test)\n",
        "\n",
        "from sklearn.model_selection import train_test_split\n",
        "x_train,x_cv,y_train,y_cv = train_test_split(x,y, test_size=0.3, random_state=123)"
      ],
      "execution_count": null,
      "outputs": []
    },
    {
      "cell_type": "code",
      "metadata": {
        "id": "Dq0xTfq5FyZC"
      },
      "source": [
        "from sklearn.linear_model import LogisticRegression\n",
        "from sklearn.metrics import accuracy_score"
      ],
      "execution_count": null,
      "outputs": []
    },
    {
      "cell_type": "code",
      "metadata": {
        "id": "cmjocHh3GsIP"
      },
      "source": [
        "LogisticRegression(C=1.0, class_weight=None, dual=False, fit_intercept=True,\n",
        "          intercept_scaling=1, max_iter=100, multi_class='ovr', n_jobs=1,\n",
        "          penalty='l2', random_state=None, solver='liblinear', tol=0.0001,\n",
        "          verbose=0, warm_start=False)\n",
        "\n",
        "pred_cv=LR.predict(x_cv)\n",
        "accuracy_score(y_cv,pred_cv"
      ],
      "execution_count": null,
      "outputs": []
    }
  ]
}